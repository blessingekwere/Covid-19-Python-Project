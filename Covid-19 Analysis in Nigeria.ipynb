{
 "cells": [
  {
   "cell_type": "markdown",
   "id": "701ddf7a",
   "metadata": {},
   "source": [
    "## Covid-19 in Nigeria (January-March 2020)"
   ]
  },
  {
   "attachments": {
    "download.jpg": {
     "image/jpeg": "[encoded data removed]"
    }
   },
   "cell_type": "markdown",
   "id": "dc809b71",
   "metadata": {},
   "source": [
    "![title](attachment:download.jpg)\n",
    "\n"
   ]
  },
  {
   "cell_type": "markdown",
   "id": "5871b85b",
   "metadata": {},
   "source": [
    "### Problem Statement"
   ]
  },
  {
   "cell_type": "markdown",
   "id": "65a2ae7a",
   "metadata": {},
   "source": [
    "The objective of this project is to conduct an analysis of COVID-19 trends in Nigeria during the first quarter of 2020 (January to March). As the global pandemic unfolded during this period, it is crucial to understand the impact of the virus on the country's health, economy, and society. This analysis aims to provide insights into the spread of the virus, healthcare capacity, government interventions, and the resulting socio-economic consequences. By examining the patterns and dynamics of COVID-19 cases, testing, recovery rates, and fatalities, we seek to uncover key findings that can inform public health strategies, policy decisions, and resource allocation. Ultimately, this analysis will contribute to a deeper understanding of Nigeria's response to the initial stages of the pandemic and its implications for future preparedness and management of health crises\n",
    "\n",
    "This project will focus on addressing the following questions:\n",
    "\n",
    "* What is the cumulative count of suspected COVID-19 cases?\n",
    "* How many new cases were recorded during the specified period?\n",
    "* What is the aggregate count of confirmed COVID-19 cases?\n",
    "* How many deaths were documented due to the virus?\n",
    "* How have confirmed COVID-19 cases evolved over time?\n",
    "* Is there a discernible correlation between the cumulative count of confirmed cases and suspected cases?\n",
    "* What is the average count of newly recorded cases?\n",
    "* Which locations within Nigeria have the highest confirmed case counts? (identifying the top ten)\n",
    "\n",
    "By answering these questions, this project will provide insights about Nigeria's COVID-19 situation during the first quarter of 2020."
   ]
  },
  {
   "cell_type": "markdown",
   "id": "6622df75",
   "metadata": {},
   "source": [
    "### Importing the modules"
   ]
  },
  {
   "cell_type": "code",
   "execution_count": null,
   "id": "68117bbc",
   "metadata": {},
   "outputs": [],
   "source": [
    "import pandas as pd\n",
    "from matplotlib import pyplot as plt"
   ]
  },
  {
   "cell_type": "markdown",
   "id": "ea63bfd5",
   "metadata": {},
   "source": [
    "### Loading the Dataset"
   ]
  },
  {
   "cell_type": "code",
   "execution_count": 3,
   "id": "8eac57c4",
   "metadata": {},
   "outputs": [],
   "source": [
    "df = pd.read_csv('covid19-nigeria-dataset.csv', index_col=0)"
   ]
  },
  {
   "cell_type": "markdown",
   "id": "285be2df",
   "metadata": {},
   "source": [
    "### Checking the first 100 rows"
   ]
  },
  {
   "cell_type": "code",
   "execution_count": 4,
   "id": "b7867fda",
   "metadata": {},
   "outputs": [
    {
     "data": {
      "text/html": [
       "<div>\n",
       "<style scoped>\n",
       "    .dataframe tbody tr th:only-of-type {\n",
       "        vertical-align: middle;\n",
       "    }\n",
       "\n",
       "    .dataframe tbody tr th {\n",
       "        vertical-align: top;\n",
       "    }\n",
       "\n",
       "    .dataframe thead th {\n",
       "        text-align: right;\n",
       "    }\n",
       "</style>\n",
       "<table border=\"1\" class=\"dataframe\">\n",
       "  <thead>\n",
       "    <tr style=\"text-align: right;\">\n",
       "      <th></th>\n",
       "      <th>Location</th>\n",
       "      <th>Suspected Cases</th>\n",
       "      <th>Nr. Of New Cases</th>\n",
       "      <th>Total Confirmed Cases</th>\n",
       "      <th>Source</th>\n",
       "      <th>Deaths</th>\n",
       "      <th>Recovered</th>\n",
       "      <th>Contacts Under Follow-up</th>\n",
       "      <th>HCW Contacts Under Follow-up</th>\n",
       "      <th>Total Contacts Under Follow-Up</th>\n",
       "      <th>Cumulative Contacts Under Follow-up</th>\n",
       "      <th>Total Suspected Cases</th>\n",
       "      <th>Unnamed: 13</th>\n",
       "      <th>Unnamed: 14</th>\n",
       "    </tr>\n",
       "    <tr>\n",
       "      <th>Date</th>\n",
       "      <th></th>\n",
       "      <th></th>\n",
       "      <th></th>\n",
       "      <th></th>\n",
       "      <th></th>\n",
       "      <th></th>\n",
       "      <th></th>\n",
       "      <th></th>\n",
       "      <th></th>\n",
       "      <th></th>\n",
       "      <th></th>\n",
       "      <th></th>\n",
       "      <th></th>\n",
       "      <th></th>\n",
       "    </tr>\n",
       "  </thead>\n",
       "  <tbody>\n",
       "    <tr>\n",
       "      <th>27-Feb-20</th>\n",
       "      <td>Ogun</td>\n",
       "      <td>NaN</td>\n",
       "      <td>1.0</td>\n",
       "      <td>1.0</td>\n",
       "      <td>https://ncdc.gov.ng/themes/common/files/sitrep...</td>\n",
       "      <td>0.0</td>\n",
       "      <td>0.0</td>\n",
       "      <td>19.0</td>\n",
       "      <td>5.0</td>\n",
       "      <td>24.0</td>\n",
       "      <td>24.0</td>\n",
       "      <td>NaN</td>\n",
       "      <td>NaN</td>\n",
       "      <td>NaN</td>\n",
       "    </tr>\n",
       "    <tr>\n",
       "      <th>27-Feb-20</th>\n",
       "      <td>Lagos</td>\n",
       "      <td>NaN</td>\n",
       "      <td>0.0</td>\n",
       "      <td>0.0</td>\n",
       "      <td>https://ncdc.gov.ng/themes/common/files/sitrep...</td>\n",
       "      <td>0.0</td>\n",
       "      <td>0.0</td>\n",
       "      <td>6.0</td>\n",
       "      <td>0.0</td>\n",
       "      <td>6.0</td>\n",
       "      <td>30.0</td>\n",
       "      <td>NaN</td>\n",
       "      <td>NaN</td>\n",
       "      <td>NaN</td>\n",
       "    </tr>\n",
       "    <tr>\n",
       "      <th>01-Mar-20</th>\n",
       "      <td>Ogun</td>\n",
       "      <td>NaN</td>\n",
       "      <td>0.0</td>\n",
       "      <td>1.0</td>\n",
       "      <td>https://ncdc.gov.ng/themes/common/files/sitrep...</td>\n",
       "      <td>0.0</td>\n",
       "      <td>0.0</td>\n",
       "      <td>34.0</td>\n",
       "      <td>5.0</td>\n",
       "      <td>39.0</td>\n",
       "      <td>39.0</td>\n",
       "      <td>NaN</td>\n",
       "      <td>NaN</td>\n",
       "      <td>NaN</td>\n",
       "    </tr>\n",
       "    <tr>\n",
       "      <th>01-Mar-20</th>\n",
       "      <td>Lagos</td>\n",
       "      <td>NaN</td>\n",
       "      <td>0.0</td>\n",
       "      <td>0.0</td>\n",
       "      <td>https://ncdc.gov.ng/themes/common/files/sitrep...</td>\n",
       "      <td>0.0</td>\n",
       "      <td>0.0</td>\n",
       "      <td>19.0</td>\n",
       "      <td>0.0</td>\n",
       "      <td>19.0</td>\n",
       "      <td>58.0</td>\n",
       "      <td>NaN</td>\n",
       "      <td>NaN</td>\n",
       "      <td>NaN</td>\n",
       "    </tr>\n",
       "    <tr>\n",
       "      <th>02-Mar-20</th>\n",
       "      <td>Ogun</td>\n",
       "      <td>NaN</td>\n",
       "      <td>0.0</td>\n",
       "      <td>1.0</td>\n",
       "      <td>https://ncdc.gov.ng/themes/common/files/sitrep...</td>\n",
       "      <td>0.0</td>\n",
       "      <td>0.0</td>\n",
       "      <td>35.0</td>\n",
       "      <td>5.0</td>\n",
       "      <td>40.0</td>\n",
       "      <td>40.0</td>\n",
       "      <td>NaN</td>\n",
       "      <td>NaN</td>\n",
       "      <td>NaN</td>\n",
       "    </tr>\n",
       "    <tr>\n",
       "      <th>...</th>\n",
       "      <td>...</td>\n",
       "      <td>...</td>\n",
       "      <td>...</td>\n",
       "      <td>...</td>\n",
       "      <td>...</td>\n",
       "      <td>...</td>\n",
       "      <td>...</td>\n",
       "      <td>...</td>\n",
       "      <td>...</td>\n",
       "      <td>...</td>\n",
       "      <td>...</td>\n",
       "      <td>...</td>\n",
       "      <td>...</td>\n",
       "      <td>...</td>\n",
       "    </tr>\n",
       "    <tr>\n",
       "      <th>19-Mar-20</th>\n",
       "      <td>Enugu</td>\n",
       "      <td>1.0</td>\n",
       "      <td>0.0</td>\n",
       "      <td>0.0</td>\n",
       "      <td>https://ncdc.gov.ng/themes/common/files/sitrep...</td>\n",
       "      <td>0.0</td>\n",
       "      <td>0.0</td>\n",
       "      <td>NaN</td>\n",
       "      <td>NaN</td>\n",
       "      <td>NaN</td>\n",
       "      <td>NaN</td>\n",
       "      <td>NaN</td>\n",
       "      <td>NaN</td>\n",
       "      <td>NaN</td>\n",
       "    </tr>\n",
       "    <tr>\n",
       "      <th>19-Mar-20</th>\n",
       "      <td>FCT</td>\n",
       "      <td>16.0</td>\n",
       "      <td>0.0</td>\n",
       "      <td>0.0</td>\n",
       "      <td>https://ncdc.gov.ng/themes/common/files/sitrep...</td>\n",
       "      <td>0.0</td>\n",
       "      <td>0.0</td>\n",
       "      <td>NaN</td>\n",
       "      <td>NaN</td>\n",
       "      <td>NaN</td>\n",
       "      <td>NaN</td>\n",
       "      <td>NaN</td>\n",
       "      <td>NaN</td>\n",
       "      <td>NaN</td>\n",
       "    </tr>\n",
       "    <tr>\n",
       "      <th>19-Mar-20</th>\n",
       "      <td>Kano</td>\n",
       "      <td>2.0</td>\n",
       "      <td>0.0</td>\n",
       "      <td>0.0</td>\n",
       "      <td>https://ncdc.gov.ng/themes/common/files/sitrep...</td>\n",
       "      <td>0.0</td>\n",
       "      <td>0.0</td>\n",
       "      <td>NaN</td>\n",
       "      <td>NaN</td>\n",
       "      <td>NaN</td>\n",
       "      <td>NaN</td>\n",
       "      <td>NaN</td>\n",
       "      <td>NaN</td>\n",
       "      <td>NaN</td>\n",
       "    </tr>\n",
       "    <tr>\n",
       "      <th>19-Mar-20</th>\n",
       "      <td>Katsina</td>\n",
       "      <td>1.0</td>\n",
       "      <td>0.0</td>\n",
       "      <td>0.0</td>\n",
       "      <td>https://ncdc.gov.ng/themes/common/files/sitrep...</td>\n",
       "      <td>0.0</td>\n",
       "      <td>0.0</td>\n",
       "      <td>NaN</td>\n",
       "      <td>NaN</td>\n",
       "      <td>NaN</td>\n",
       "      <td>NaN</td>\n",
       "      <td>NaN</td>\n",
       "      <td>NaN</td>\n",
       "      <td>NaN</td>\n",
       "    </tr>\n",
       "    <tr>\n",
       "      <th>19-Mar-20</th>\n",
       "      <td>Lagos</td>\n",
       "      <td>56.0</td>\n",
       "      <td>4.0</td>\n",
       "      <td>9.0</td>\n",
       "      <td>https://ncdc.gov.ng/themes/common/files/sitrep...</td>\n",
       "      <td>0.0</td>\n",
       "      <td>0.0</td>\n",
       "      <td>NaN</td>\n",
       "      <td>NaN</td>\n",
       "      <td>NaN</td>\n",
       "      <td>NaN</td>\n",
       "      <td>NaN</td>\n",
       "      <td>NaN</td>\n",
       "      <td>NaN</td>\n",
       "    </tr>\n",
       "  </tbody>\n",
       "</table>\n",
       "<p>100 rows × 14 columns</p>\n",
       "</div>"
      ],
      "text/plain": [
       "          Location   Suspected Cases  Nr. Of New Cases   \\\n",
       "Date                                                      \n",
       "27-Feb-20      Ogun              NaN                1.0   \n",
       "27-Feb-20     Lagos              NaN                0.0   \n",
       "01-Mar-20      Ogun              NaN                0.0   \n",
       "01-Mar-20     Lagos              NaN                0.0   \n",
       "02-Mar-20      Ogun              NaN                0.0   \n",
       "...             ...              ...                ...   \n",
       "19-Mar-20     Enugu              1.0                0.0   \n",
       "19-Mar-20       FCT             16.0                0.0   \n",
       "19-Mar-20      Kano              2.0                0.0   \n",
       "19-Mar-20   Katsina              1.0                0.0   \n",
       "19-Mar-20     Lagos             56.0                4.0   \n",
       "\n",
       "           Total Confirmed Cases  \\\n",
       "Date                               \n",
       "27-Feb-20                    1.0   \n",
       "27-Feb-20                    0.0   \n",
       "01-Mar-20                    1.0   \n",
       "01-Mar-20                    0.0   \n",
       "02-Mar-20                    1.0   \n",
       "...                          ...   \n",
       "19-Mar-20                    0.0   \n",
       "19-Mar-20                    0.0   \n",
       "19-Mar-20                    0.0   \n",
       "19-Mar-20                    0.0   \n",
       "19-Mar-20                    9.0   \n",
       "\n",
       "                                                     Source   Deaths  \\\n",
       "Date                                                                   \n",
       "27-Feb-20  https://ncdc.gov.ng/themes/common/files/sitrep...     0.0   \n",
       "27-Feb-20  https://ncdc.gov.ng/themes/common/files/sitrep...     0.0   \n",
       "01-Mar-20  https://ncdc.gov.ng/themes/common/files/sitrep...     0.0   \n",
       "01-Mar-20  https://ncdc.gov.ng/themes/common/files/sitrep...     0.0   \n",
       "02-Mar-20  https://ncdc.gov.ng/themes/common/files/sitrep...     0.0   \n",
       "...                                                      ...     ...   \n",
       "19-Mar-20  https://ncdc.gov.ng/themes/common/files/sitrep...     0.0   \n",
       "19-Mar-20  https://ncdc.gov.ng/themes/common/files/sitrep...     0.0   \n",
       "19-Mar-20  https://ncdc.gov.ng/themes/common/files/sitrep...     0.0   \n",
       "19-Mar-20  https://ncdc.gov.ng/themes/common/files/sitrep...     0.0   \n",
       "19-Mar-20  https://ncdc.gov.ng/themes/common/files/sitrep...     0.0   \n",
       "\n",
       "           Recovered  Contacts Under Follow-up  HCW Contacts Under Follow-up  \\\n",
       "Date                                                                           \n",
       "27-Feb-20        0.0                      19.0                           5.0   \n",
       "27-Feb-20        0.0                       6.0                           0.0   \n",
       "01-Mar-20        0.0                      34.0                           5.0   \n",
       "01-Mar-20        0.0                      19.0                           0.0   \n",
       "02-Mar-20        0.0                      35.0                           5.0   \n",
       "...              ...                       ...                           ...   \n",
       "19-Mar-20        0.0                       NaN                           NaN   \n",
       "19-Mar-20        0.0                       NaN                           NaN   \n",
       "19-Mar-20        0.0                       NaN                           NaN   \n",
       "19-Mar-20        0.0                       NaN                           NaN   \n",
       "19-Mar-20        0.0                       NaN                           NaN   \n",
       "\n",
       "           Total Contacts Under Follow-Up  \\\n",
       "Date                                        \n",
       "27-Feb-20                            24.0   \n",
       "27-Feb-20                             6.0   \n",
       "01-Mar-20                            39.0   \n",
       "01-Mar-20                            19.0   \n",
       "02-Mar-20                            40.0   \n",
       "...                                   ...   \n",
       "19-Mar-20                             NaN   \n",
       "19-Mar-20                             NaN   \n",
       "19-Mar-20                             NaN   \n",
       "19-Mar-20                             NaN   \n",
       "19-Mar-20                             NaN   \n",
       "\n",
       "           Cumulative Contacts Under Follow-up  Total Suspected Cases  \\\n",
       "Date                                                                    \n",
       "27-Feb-20                                 24.0                    NaN   \n",
       "27-Feb-20                                 30.0                    NaN   \n",
       "01-Mar-20                                 39.0                    NaN   \n",
       "01-Mar-20                                 58.0                    NaN   \n",
       "02-Mar-20                                 40.0                    NaN   \n",
       "...                                        ...                    ...   \n",
       "19-Mar-20                                  NaN                    NaN   \n",
       "19-Mar-20                                  NaN                    NaN   \n",
       "19-Mar-20                                  NaN                    NaN   \n",
       "19-Mar-20                                  NaN                    NaN   \n",
       "19-Mar-20                                  NaN                    NaN   \n",
       "\n",
       "          Unnamed: 13 Unnamed: 14  \n",
       "Date                               \n",
       "27-Feb-20         NaN         NaN  \n",
       "27-Feb-20         NaN         NaN  \n",
       "01-Mar-20         NaN         NaN  \n",
       "01-Mar-20         NaN         NaN  \n",
       "02-Mar-20         NaN         NaN  \n",
       "...               ...         ...  \n",
       "19-Mar-20         NaN         NaN  \n",
       "19-Mar-20         NaN         NaN  \n",
       "19-Mar-20         NaN         NaN  \n",
       "19-Mar-20         NaN         NaN  \n",
       "19-Mar-20         NaN         NaN  \n",
       "\n",
       "[100 rows x 14 columns]"
      ]
     },
     "execution_count": 4,
     "metadata": {},
     "output_type": "execute_result"
    }
   ],
   "source": [
    "df.head(100)"
   ]
  },
  {
   "cell_type": "markdown",
   "id": "bd5c5705",
   "metadata": {},
   "source": [
    "### Resetting the index"
   ]
  },
  {
   "cell_type": "code",
   "execution_count": 66,
   "id": "6b921d26",
   "metadata": {},
   "outputs": [],
   "source": [
    "df= df.reset_index()"
   ]
  },
  {
   "cell_type": "markdown",
   "id": "1ade40c8",
   "metadata": {},
   "source": [
    "### Checking the number of rows and columns "
   ]
  },
  {
   "cell_type": "code",
   "execution_count": 116,
   "id": "239e6824",
   "metadata": {},
   "outputs": [
    {
     "data": {
      "text/plain": [
       "(172, 12)"
      ]
     },
     "execution_count": 116,
     "metadata": {},
     "output_type": "execute_result"
    }
   ],
   "source": [
    "df.shape"
   ]
  },
  {
   "cell_type": "markdown",
   "id": "b2099511",
   "metadata": {},
   "source": [
    "### Checking the information about the dataset"
   ]
  },
  {
   "cell_type": "code",
   "execution_count": 67,
   "id": "b1efa49c",
   "metadata": {},
   "outputs": [
    {
     "name": "stdout",
     "output_type": "stream",
     "text": [
      "<class 'pandas.core.frame.DataFrame'>\n",
      "RangeIndex: 172 entries, 0 to 171\n",
      "Data columns (total 12 columns):\n",
      " #   Column                               Non-Null Count  Dtype  \n",
      "---  ------                               --------------  -----  \n",
      " 0   Date                                 171 non-null    object \n",
      " 1   Location                             172 non-null    object \n",
      " 2   Suspected Cases                      172 non-null    float64\n",
      " 3   Nr. Of New Cases                     172 non-null    float64\n",
      " 4   Total Confirmed Cases                172 non-null    float64\n",
      " 5   Deaths                               172 non-null    float64\n",
      " 6   Recovered                            172 non-null    float64\n",
      " 7   Contacts Under Follow-up             172 non-null    float64\n",
      " 8   HCW Contacts Under Follow-up         172 non-null    float64\n",
      " 9   Total Contacts Under Follow-Up       172 non-null    float64\n",
      " 10  Cumulative Contacts Under Follow-up  172 non-null    float64\n",
      " 11  Total Suspected Cases                172 non-null    float64\n",
      "dtypes: float64(10), object(2)\n",
      "memory usage: 16.2+ KB\n"
     ]
    }
   ],
   "source": [
    "df.info()"
   ]
  },
  {
   "cell_type": "markdown",
   "id": "e3eb77ad",
   "metadata": {},
   "source": [
    "### Loading the column titles "
   ]
  },
  {
   "cell_type": "code",
   "execution_count": 68,
   "id": "3eb9b3f5",
   "metadata": {},
   "outputs": [
    {
     "name": "stdout",
     "output_type": "stream",
     "text": [
      "Index(['Date', 'Location', 'Suspected Cases', 'Nr. Of New Cases ',\n",
      "       'Total Confirmed Cases', 'Deaths', 'Recovered',\n",
      "       'Contacts Under Follow-up', 'HCW Contacts Under Follow-up',\n",
      "       'Total Contacts Under Follow-Up', 'Cumulative Contacts Under Follow-up',\n",
      "       'Total Suspected Cases'],\n",
      "      dtype='object')\n"
     ]
    }
   ],
   "source": [
    "## Checking the column titles \n",
    "print(df.columns)"
   ]
  },
  {
   "cell_type": "markdown",
   "id": "6880c0eb",
   "metadata": {},
   "source": [
    "### Checking the summary statistics of each column"
   ]
  },
  {
   "cell_type": "code",
   "execution_count": 69,
   "id": "911417f0",
   "metadata": {},
   "outputs": [
    {
     "data": {
      "text/html": [
       "<div>\n",
       "<style scoped>\n",
       "    .dataframe tbody tr th:only-of-type {\n",
       "        vertical-align: middle;\n",
       "    }\n",
       "\n",
       "    .dataframe tbody tr th {\n",
       "        vertical-align: top;\n",
       "    }\n",
       "\n",
       "    .dataframe thead th {\n",
       "        text-align: right;\n",
       "    }\n",
       "</style>\n",
       "<table border=\"1\" class=\"dataframe\">\n",
       "  <thead>\n",
       "    <tr style=\"text-align: right;\">\n",
       "      <th></th>\n",
       "      <th>Suspected Cases</th>\n",
       "      <th>Nr. Of New Cases</th>\n",
       "      <th>Total Confirmed Cases</th>\n",
       "      <th>Deaths</th>\n",
       "      <th>Recovered</th>\n",
       "      <th>Contacts Under Follow-up</th>\n",
       "      <th>HCW Contacts Under Follow-up</th>\n",
       "      <th>Total Contacts Under Follow-Up</th>\n",
       "      <th>Cumulative Contacts Under Follow-up</th>\n",
       "      <th>Total Suspected Cases</th>\n",
       "    </tr>\n",
       "  </thead>\n",
       "  <tbody>\n",
       "    <tr>\n",
       "      <th>count</th>\n",
       "      <td>172.000000</td>\n",
       "      <td>172.000000</td>\n",
       "      <td>172.000000</td>\n",
       "      <td>172.000000</td>\n",
       "      <td>172.000000</td>\n",
       "      <td>172.000000</td>\n",
       "      <td>172.000000</td>\n",
       "      <td>172.000000</td>\n",
       "      <td>172.000000</td>\n",
       "      <td>172.0</td>\n",
       "    </tr>\n",
       "    <tr>\n",
       "      <th>mean</th>\n",
       "      <td>6.767442</td>\n",
       "      <td>0.302326</td>\n",
       "      <td>0.994186</td>\n",
       "      <td>0.005814</td>\n",
       "      <td>0.075581</td>\n",
       "      <td>1.755814</td>\n",
       "      <td>0.174419</td>\n",
       "      <td>1.930233</td>\n",
       "      <td>3.226744</td>\n",
       "      <td>0.0</td>\n",
       "    </tr>\n",
       "    <tr>\n",
       "      <th>std</th>\n",
       "      <td>15.615013</td>\n",
       "      <td>1.302896</td>\n",
       "      <td>3.862395</td>\n",
       "      <td>0.076249</td>\n",
       "      <td>0.324600</td>\n",
       "      <td>6.860236</td>\n",
       "      <td>0.920105</td>\n",
       "      <td>7.653751</td>\n",
       "      <td>12.296093</td>\n",
       "      <td>0.0</td>\n",
       "    </tr>\n",
       "    <tr>\n",
       "      <th>min</th>\n",
       "      <td>0.000000</td>\n",
       "      <td>0.000000</td>\n",
       "      <td>0.000000</td>\n",
       "      <td>0.000000</td>\n",
       "      <td>0.000000</td>\n",
       "      <td>0.000000</td>\n",
       "      <td>0.000000</td>\n",
       "      <td>0.000000</td>\n",
       "      <td>0.000000</td>\n",
       "      <td>0.0</td>\n",
       "    </tr>\n",
       "    <tr>\n",
       "      <th>25%</th>\n",
       "      <td>1.000000</td>\n",
       "      <td>0.000000</td>\n",
       "      <td>0.000000</td>\n",
       "      <td>0.000000</td>\n",
       "      <td>0.000000</td>\n",
       "      <td>0.000000</td>\n",
       "      <td>0.000000</td>\n",
       "      <td>0.000000</td>\n",
       "      <td>0.000000</td>\n",
       "      <td>0.0</td>\n",
       "    </tr>\n",
       "    <tr>\n",
       "      <th>50%</th>\n",
       "      <td>1.000000</td>\n",
       "      <td>0.000000</td>\n",
       "      <td>0.000000</td>\n",
       "      <td>0.000000</td>\n",
       "      <td>0.000000</td>\n",
       "      <td>0.000000</td>\n",
       "      <td>0.000000</td>\n",
       "      <td>0.000000</td>\n",
       "      <td>0.000000</td>\n",
       "      <td>0.0</td>\n",
       "    </tr>\n",
       "    <tr>\n",
       "      <th>75%</th>\n",
       "      <td>4.250000</td>\n",
       "      <td>0.000000</td>\n",
       "      <td>1.000000</td>\n",
       "      <td>0.000000</td>\n",
       "      <td>0.000000</td>\n",
       "      <td>0.000000</td>\n",
       "      <td>0.000000</td>\n",
       "      <td>0.000000</td>\n",
       "      <td>0.000000</td>\n",
       "      <td>0.0</td>\n",
       "    </tr>\n",
       "    <tr>\n",
       "      <th>max</th>\n",
       "      <td>116.000000</td>\n",
       "      <td>13.000000</td>\n",
       "      <td>32.000000</td>\n",
       "      <td>1.000000</td>\n",
       "      <td>2.000000</td>\n",
       "      <td>35.000000</td>\n",
       "      <td>5.000000</td>\n",
       "      <td>40.000000</td>\n",
       "      <td>61.000000</td>\n",
       "      <td>0.0</td>\n",
       "    </tr>\n",
       "  </tbody>\n",
       "</table>\n",
       "</div>"
      ],
      "text/plain": [
       "       Suspected Cases  Nr. Of New Cases   Total Confirmed Cases      Deaths  \\\n",
       "count       172.000000         172.000000             172.000000  172.000000   \n",
       "mean          6.767442           0.302326               0.994186    0.005814   \n",
       "std          15.615013           1.302896               3.862395    0.076249   \n",
       "min           0.000000           0.000000               0.000000    0.000000   \n",
       "25%           1.000000           0.000000               0.000000    0.000000   \n",
       "50%           1.000000           0.000000               0.000000    0.000000   \n",
       "75%           4.250000           0.000000               1.000000    0.000000   \n",
       "max         116.000000          13.000000              32.000000    1.000000   \n",
       "\n",
       "        Recovered  Contacts Under Follow-up  HCW Contacts Under Follow-up  \\\n",
       "count  172.000000                172.000000                    172.000000   \n",
       "mean     0.075581                  1.755814                      0.174419   \n",
       "std      0.324600                  6.860236                      0.920105   \n",
       "min      0.000000                  0.000000                      0.000000   \n",
       "25%      0.000000                  0.000000                      0.000000   \n",
       "50%      0.000000                  0.000000                      0.000000   \n",
       "75%      0.000000                  0.000000                      0.000000   \n",
       "max      2.000000                 35.000000                      5.000000   \n",
       "\n",
       "       Total Contacts Under Follow-Up  Cumulative Contacts Under Follow-up  \\\n",
       "count                      172.000000                           172.000000   \n",
       "mean                         1.930233                             3.226744   \n",
       "std                          7.653751                            12.296093   \n",
       "min                          0.000000                             0.000000   \n",
       "25%                          0.000000                             0.000000   \n",
       "50%                          0.000000                             0.000000   \n",
       "75%                          0.000000                             0.000000   \n",
       "max                         40.000000                            61.000000   \n",
       "\n",
       "       Total Suspected Cases  \n",
       "count                  172.0  \n",
       "mean                     0.0  \n",
       "std                      0.0  \n",
       "min                      0.0  \n",
       "25%                      0.0  \n",
       "50%                      0.0  \n",
       "75%                      0.0  \n",
       "max                      0.0  "
      ]
     },
     "execution_count": 69,
     "metadata": {},
     "output_type": "execute_result"
    }
   ],
   "source": [
    "df.describe()"
   ]
  },
  {
   "cell_type": "markdown",
   "id": "cfd86040",
   "metadata": {},
   "source": [
    "### Checking for missing values"
   ]
  },
  {
   "cell_type": "code",
   "execution_count": 70,
   "id": "2c80bb47",
   "metadata": {},
   "outputs": [
    {
     "data": {
      "text/plain": [
       "Date                                    True\n",
       "Location                               False\n",
       "Suspected Cases                        False\n",
       "Nr. Of New Cases                       False\n",
       "Total Confirmed Cases                  False\n",
       "Deaths                                 False\n",
       "Recovered                              False\n",
       "Contacts Under Follow-up               False\n",
       "HCW Contacts Under Follow-up           False\n",
       "Total Contacts Under Follow-Up         False\n",
       "Cumulative Contacts Under Follow-up    False\n",
       "Total Suspected Cases                  False\n",
       "dtype: bool"
      ]
     },
     "execution_count": 70,
     "metadata": {},
     "output_type": "execute_result"
    }
   ],
   "source": [
    "df.isna().any()"
   ]
  },
  {
   "cell_type": "markdown",
   "id": "20985198",
   "metadata": {},
   "source": [
    "### Checking the bottom rows "
   ]
  },
  {
   "cell_type": "code",
   "execution_count": 71,
   "id": "840b70d0",
   "metadata": {},
   "outputs": [
    {
     "data": {
      "text/html": [
       "<div>\n",
       "<style scoped>\n",
       "    .dataframe tbody tr th:only-of-type {\n",
       "        vertical-align: middle;\n",
       "    }\n",
       "\n",
       "    .dataframe tbody tr th {\n",
       "        vertical-align: top;\n",
       "    }\n",
       "\n",
       "    .dataframe thead th {\n",
       "        text-align: right;\n",
       "    }\n",
       "</style>\n",
       "<table border=\"1\" class=\"dataframe\">\n",
       "  <thead>\n",
       "    <tr style=\"text-align: right;\">\n",
       "      <th></th>\n",
       "      <th>Date</th>\n",
       "      <th>Location</th>\n",
       "      <th>Suspected Cases</th>\n",
       "      <th>Nr. Of New Cases</th>\n",
       "      <th>Total Confirmed Cases</th>\n",
       "      <th>Deaths</th>\n",
       "      <th>Recovered</th>\n",
       "      <th>Contacts Under Follow-up</th>\n",
       "      <th>HCW Contacts Under Follow-up</th>\n",
       "      <th>Total Contacts Under Follow-Up</th>\n",
       "      <th>Cumulative Contacts Under Follow-up</th>\n",
       "      <th>Total Suspected Cases</th>\n",
       "    </tr>\n",
       "  </thead>\n",
       "  <tbody>\n",
       "    <tr>\n",
       "      <th>167</th>\n",
       "      <td>25-Mar-20</td>\n",
       "      <td>Plateau</td>\n",
       "      <td>4.0</td>\n",
       "      <td>0.0</td>\n",
       "      <td>0.0</td>\n",
       "      <td>0.0</td>\n",
       "      <td>0.0</td>\n",
       "      <td>0.0</td>\n",
       "      <td>0.0</td>\n",
       "      <td>0.0</td>\n",
       "      <td>0.0</td>\n",
       "      <td>0.0</td>\n",
       "    </tr>\n",
       "    <tr>\n",
       "      <th>168</th>\n",
       "      <td>25-Mar-20</td>\n",
       "      <td>Rivers</td>\n",
       "      <td>7.0</td>\n",
       "      <td>1.0</td>\n",
       "      <td>1.0</td>\n",
       "      <td>0.0</td>\n",
       "      <td>0.0</td>\n",
       "      <td>0.0</td>\n",
       "      <td>0.0</td>\n",
       "      <td>0.0</td>\n",
       "      <td>0.0</td>\n",
       "      <td>0.0</td>\n",
       "    </tr>\n",
       "    <tr>\n",
       "      <th>169</th>\n",
       "      <td>25-Mar-20</td>\n",
       "      <td>Sokoto</td>\n",
       "      <td>1.0</td>\n",
       "      <td>0.0</td>\n",
       "      <td>0.0</td>\n",
       "      <td>0.0</td>\n",
       "      <td>0.0</td>\n",
       "      <td>0.0</td>\n",
       "      <td>0.0</td>\n",
       "      <td>0.0</td>\n",
       "      <td>0.0</td>\n",
       "      <td>0.0</td>\n",
       "    </tr>\n",
       "    <tr>\n",
       "      <th>170</th>\n",
       "      <td>25-Mar-20</td>\n",
       "      <td>Yobe</td>\n",
       "      <td>1.0</td>\n",
       "      <td>0.0</td>\n",
       "      <td>0.0</td>\n",
       "      <td>0.0</td>\n",
       "      <td>0.0</td>\n",
       "      <td>0.0</td>\n",
       "      <td>0.0</td>\n",
       "      <td>0.0</td>\n",
       "      <td>0.0</td>\n",
       "      <td>0.0</td>\n",
       "    </tr>\n",
       "    <tr>\n",
       "      <th>171</th>\n",
       "      <td>NaN</td>\n",
       "      <td>0</td>\n",
       "      <td>0.0</td>\n",
       "      <td>0.0</td>\n",
       "      <td>0.0</td>\n",
       "      <td>0.0</td>\n",
       "      <td>0.0</td>\n",
       "      <td>0.0</td>\n",
       "      <td>0.0</td>\n",
       "      <td>0.0</td>\n",
       "      <td>0.0</td>\n",
       "      <td>0.0</td>\n",
       "    </tr>\n",
       "  </tbody>\n",
       "</table>\n",
       "</div>"
      ],
      "text/plain": [
       "          Date Location  Suspected Cases  Nr. Of New Cases   \\\n",
       "167  25-Mar-20  Plateau              4.0                0.0   \n",
       "168  25-Mar-20   Rivers              7.0                1.0   \n",
       "169  25-Mar-20   Sokoto              1.0                0.0   \n",
       "170  25-Mar-20     Yobe              1.0                0.0   \n",
       "171        NaN        0              0.0                0.0   \n",
       "\n",
       "     Total Confirmed Cases  Deaths  Recovered  Contacts Under Follow-up  \\\n",
       "167                    0.0     0.0        0.0                       0.0   \n",
       "168                    1.0     0.0        0.0                       0.0   \n",
       "169                    0.0     0.0        0.0                       0.0   \n",
       "170                    0.0     0.0        0.0                       0.0   \n",
       "171                    0.0     0.0        0.0                       0.0   \n",
       "\n",
       "     HCW Contacts Under Follow-up  Total Contacts Under Follow-Up  \\\n",
       "167                           0.0                             0.0   \n",
       "168                           0.0                             0.0   \n",
       "169                           0.0                             0.0   \n",
       "170                           0.0                             0.0   \n",
       "171                           0.0                             0.0   \n",
       "\n",
       "     Cumulative Contacts Under Follow-up  Total Suspected Cases  \n",
       "167                                  0.0                    0.0  \n",
       "168                                  0.0                    0.0  \n",
       "169                                  0.0                    0.0  \n",
       "170                                  0.0                    0.0  \n",
       "171                                  0.0                    0.0  "
      ]
     },
     "execution_count": 71,
     "metadata": {},
     "output_type": "execute_result"
    }
   ],
   "source": [
    "df.tail()"
   ]
  },
  {
   "cell_type": "markdown",
   "id": "976345ab",
   "metadata": {},
   "source": [
    "### Filling all the rows with missing values with zero "
   ]
  },
  {
   "cell_type": "code",
   "execution_count": 73,
   "id": "28cc5815",
   "metadata": {},
   "outputs": [
    {
     "data": {
      "text/html": [
       "<div>\n",
       "<style scoped>\n",
       "    .dataframe tbody tr th:only-of-type {\n",
       "        vertical-align: middle;\n",
       "    }\n",
       "\n",
       "    .dataframe tbody tr th {\n",
       "        vertical-align: top;\n",
       "    }\n",
       "\n",
       "    .dataframe thead th {\n",
       "        text-align: right;\n",
       "    }\n",
       "</style>\n",
       "<table border=\"1\" class=\"dataframe\">\n",
       "  <thead>\n",
       "    <tr style=\"text-align: right;\">\n",
       "      <th></th>\n",
       "      <th>Date</th>\n",
       "      <th>Location</th>\n",
       "      <th>Suspected Cases</th>\n",
       "      <th>Nr. Of New Cases</th>\n",
       "      <th>Total Confirmed Cases</th>\n",
       "      <th>Deaths</th>\n",
       "      <th>Recovered</th>\n",
       "      <th>Contacts Under Follow-up</th>\n",
       "      <th>HCW Contacts Under Follow-up</th>\n",
       "      <th>Total Contacts Under Follow-Up</th>\n",
       "      <th>Cumulative Contacts Under Follow-up</th>\n",
       "      <th>Total Suspected Cases</th>\n",
       "    </tr>\n",
       "  </thead>\n",
       "  <tbody>\n",
       "    <tr>\n",
       "      <th>0</th>\n",
       "      <td>27-Feb-20</td>\n",
       "      <td>Ogun</td>\n",
       "      <td>0.0</td>\n",
       "      <td>1.0</td>\n",
       "      <td>1.0</td>\n",
       "      <td>0.0</td>\n",
       "      <td>0.0</td>\n",
       "      <td>19.0</td>\n",
       "      <td>5.0</td>\n",
       "      <td>24.0</td>\n",
       "      <td>24.0</td>\n",
       "      <td>0.0</td>\n",
       "    </tr>\n",
       "    <tr>\n",
       "      <th>1</th>\n",
       "      <td>27-Feb-20</td>\n",
       "      <td>Lagos</td>\n",
       "      <td>0.0</td>\n",
       "      <td>0.0</td>\n",
       "      <td>0.0</td>\n",
       "      <td>0.0</td>\n",
       "      <td>0.0</td>\n",
       "      <td>6.0</td>\n",
       "      <td>0.0</td>\n",
       "      <td>6.0</td>\n",
       "      <td>30.0</td>\n",
       "      <td>0.0</td>\n",
       "    </tr>\n",
       "    <tr>\n",
       "      <th>2</th>\n",
       "      <td>01-Mar-20</td>\n",
       "      <td>Ogun</td>\n",
       "      <td>0.0</td>\n",
       "      <td>0.0</td>\n",
       "      <td>1.0</td>\n",
       "      <td>0.0</td>\n",
       "      <td>0.0</td>\n",
       "      <td>34.0</td>\n",
       "      <td>5.0</td>\n",
       "      <td>39.0</td>\n",
       "      <td>39.0</td>\n",
       "      <td>0.0</td>\n",
       "    </tr>\n",
       "    <tr>\n",
       "      <th>3</th>\n",
       "      <td>01-Mar-20</td>\n",
       "      <td>Lagos</td>\n",
       "      <td>0.0</td>\n",
       "      <td>0.0</td>\n",
       "      <td>0.0</td>\n",
       "      <td>0.0</td>\n",
       "      <td>0.0</td>\n",
       "      <td>19.0</td>\n",
       "      <td>0.0</td>\n",
       "      <td>19.0</td>\n",
       "      <td>58.0</td>\n",
       "      <td>0.0</td>\n",
       "    </tr>\n",
       "    <tr>\n",
       "      <th>4</th>\n",
       "      <td>02-Mar-20</td>\n",
       "      <td>Ogun</td>\n",
       "      <td>0.0</td>\n",
       "      <td>0.0</td>\n",
       "      <td>1.0</td>\n",
       "      <td>0.0</td>\n",
       "      <td>0.0</td>\n",
       "      <td>35.0</td>\n",
       "      <td>5.0</td>\n",
       "      <td>40.0</td>\n",
       "      <td>40.0</td>\n",
       "      <td>0.0</td>\n",
       "    </tr>\n",
       "    <tr>\n",
       "      <th>...</th>\n",
       "      <td>...</td>\n",
       "      <td>...</td>\n",
       "      <td>...</td>\n",
       "      <td>...</td>\n",
       "      <td>...</td>\n",
       "      <td>...</td>\n",
       "      <td>...</td>\n",
       "      <td>...</td>\n",
       "      <td>...</td>\n",
       "      <td>...</td>\n",
       "      <td>...</td>\n",
       "      <td>...</td>\n",
       "    </tr>\n",
       "    <tr>\n",
       "      <th>167</th>\n",
       "      <td>25-Mar-20</td>\n",
       "      <td>Plateau</td>\n",
       "      <td>4.0</td>\n",
       "      <td>0.0</td>\n",
       "      <td>0.0</td>\n",
       "      <td>0.0</td>\n",
       "      <td>0.0</td>\n",
       "      <td>0.0</td>\n",
       "      <td>0.0</td>\n",
       "      <td>0.0</td>\n",
       "      <td>0.0</td>\n",
       "      <td>0.0</td>\n",
       "    </tr>\n",
       "    <tr>\n",
       "      <th>168</th>\n",
       "      <td>25-Mar-20</td>\n",
       "      <td>Rivers</td>\n",
       "      <td>7.0</td>\n",
       "      <td>1.0</td>\n",
       "      <td>1.0</td>\n",
       "      <td>0.0</td>\n",
       "      <td>0.0</td>\n",
       "      <td>0.0</td>\n",
       "      <td>0.0</td>\n",
       "      <td>0.0</td>\n",
       "      <td>0.0</td>\n",
       "      <td>0.0</td>\n",
       "    </tr>\n",
       "    <tr>\n",
       "      <th>169</th>\n",
       "      <td>25-Mar-20</td>\n",
       "      <td>Sokoto</td>\n",
       "      <td>1.0</td>\n",
       "      <td>0.0</td>\n",
       "      <td>0.0</td>\n",
       "      <td>0.0</td>\n",
       "      <td>0.0</td>\n",
       "      <td>0.0</td>\n",
       "      <td>0.0</td>\n",
       "      <td>0.0</td>\n",
       "      <td>0.0</td>\n",
       "      <td>0.0</td>\n",
       "    </tr>\n",
       "    <tr>\n",
       "      <th>170</th>\n",
       "      <td>25-Mar-20</td>\n",
       "      <td>Yobe</td>\n",
       "      <td>1.0</td>\n",
       "      <td>0.0</td>\n",
       "      <td>0.0</td>\n",
       "      <td>0.0</td>\n",
       "      <td>0.0</td>\n",
       "      <td>0.0</td>\n",
       "      <td>0.0</td>\n",
       "      <td>0.0</td>\n",
       "      <td>0.0</td>\n",
       "      <td>0.0</td>\n",
       "    </tr>\n",
       "    <tr>\n",
       "      <th>171</th>\n",
       "      <td>NaN</td>\n",
       "      <td>0</td>\n",
       "      <td>0.0</td>\n",
       "      <td>0.0</td>\n",
       "      <td>0.0</td>\n",
       "      <td>0.0</td>\n",
       "      <td>0.0</td>\n",
       "      <td>0.0</td>\n",
       "      <td>0.0</td>\n",
       "      <td>0.0</td>\n",
       "      <td>0.0</td>\n",
       "      <td>0.0</td>\n",
       "    </tr>\n",
       "  </tbody>\n",
       "</table>\n",
       "<p>172 rows × 12 columns</p>\n",
       "</div>"
      ],
      "text/plain": [
       "          Date Location  Suspected Cases  Nr. Of New Cases   \\\n",
       "0    27-Feb-20     Ogun              0.0                1.0   \n",
       "1    27-Feb-20    Lagos              0.0                0.0   \n",
       "2    01-Mar-20     Ogun              0.0                0.0   \n",
       "3    01-Mar-20    Lagos              0.0                0.0   \n",
       "4    02-Mar-20     Ogun              0.0                0.0   \n",
       "..         ...      ...              ...                ...   \n",
       "167  25-Mar-20  Plateau              4.0                0.0   \n",
       "168  25-Mar-20   Rivers              7.0                1.0   \n",
       "169  25-Mar-20   Sokoto              1.0                0.0   \n",
       "170  25-Mar-20     Yobe              1.0                0.0   \n",
       "171        NaN        0              0.0                0.0   \n",
       "\n",
       "     Total Confirmed Cases  Deaths  Recovered  Contacts Under Follow-up  \\\n",
       "0                      1.0     0.0        0.0                      19.0   \n",
       "1                      0.0     0.0        0.0                       6.0   \n",
       "2                      1.0     0.0        0.0                      34.0   \n",
       "3                      0.0     0.0        0.0                      19.0   \n",
       "4                      1.0     0.0        0.0                      35.0   \n",
       "..                     ...     ...        ...                       ...   \n",
       "167                    0.0     0.0        0.0                       0.0   \n",
       "168                    1.0     0.0        0.0                       0.0   \n",
       "169                    0.0     0.0        0.0                       0.0   \n",
       "170                    0.0     0.0        0.0                       0.0   \n",
       "171                    0.0     0.0        0.0                       0.0   \n",
       "\n",
       "     HCW Contacts Under Follow-up  Total Contacts Under Follow-Up  \\\n",
       "0                             5.0                            24.0   \n",
       "1                             0.0                             6.0   \n",
       "2                             5.0                            39.0   \n",
       "3                             0.0                            19.0   \n",
       "4                             5.0                            40.0   \n",
       "..                            ...                             ...   \n",
       "167                           0.0                             0.0   \n",
       "168                           0.0                             0.0   \n",
       "169                           0.0                             0.0   \n",
       "170                           0.0                             0.0   \n",
       "171                           0.0                             0.0   \n",
       "\n",
       "     Cumulative Contacts Under Follow-up  Total Suspected Cases  \n",
       "0                                   24.0                    0.0  \n",
       "1                                   30.0                    0.0  \n",
       "2                                   39.0                    0.0  \n",
       "3                                   58.0                    0.0  \n",
       "4                                   40.0                    0.0  \n",
       "..                                   ...                    ...  \n",
       "167                                  0.0                    0.0  \n",
       "168                                  0.0                    0.0  \n",
       "169                                  0.0                    0.0  \n",
       "170                                  0.0                    0.0  \n",
       "171                                  0.0                    0.0  \n",
       "\n",
       "[172 rows x 12 columns]"
      ]
     },
     "execution_count": 73,
     "metadata": {},
     "output_type": "execute_result"
    }
   ],
   "source": [
    "df.fillna(0)\n",
    "df"
   ]
  },
  {
   "cell_type": "markdown",
   "id": "9cd07e45",
   "metadata": {},
   "source": [
    "### Data Aggregation"
   ]
  },
  {
   "cell_type": "code",
   "execution_count": 75,
   "id": "a3e93b89",
   "metadata": {},
   "outputs": [
    {
     "data": {
      "text/plain": [
       "1164.0"
      ]
     },
     "execution_count": 75,
     "metadata": {},
     "output_type": "execute_result"
    }
   ],
   "source": [
    "## Calculating total suspected cases\n",
    "Total_suspected_cases = df['Suspected Cases'].sum()\n",
    "Total_suspected_cases"
   ]
  },
  {
   "cell_type": "code",
   "execution_count": 76,
   "id": "aec504cd",
   "metadata": {},
   "outputs": [
    {
     "data": {
      "text/plain": [
       "52.0"
      ]
     },
     "execution_count": 76,
     "metadata": {},
     "output_type": "execute_result"
    }
   ],
   "source": [
    "## Calculating total new cases\n",
    "Total_new_cases = df['Nr. Of New Cases '].sum()\n",
    "Total_new_cases"
   ]
  },
  {
   "cell_type": "code",
   "execution_count": 77,
   "id": "85008856",
   "metadata": {},
   "outputs": [
    {
     "data": {
      "text/plain": [
       "171.0"
      ]
     },
     "execution_count": 77,
     "metadata": {},
     "output_type": "execute_result"
    }
   ],
   "source": [
    "## Calculating total confirmed cases\n",
    "Total_confirmed_cases = df['Total Confirmed Cases'].sum()\n",
    "Total_confirmed_cases"
   ]
  },
  {
   "cell_type": "code",
   "execution_count": 78,
   "id": "6c2591a4",
   "metadata": {},
   "outputs": [
    {
     "data": {
      "text/plain": [
       "1.0"
      ]
     },
     "execution_count": 78,
     "metadata": {},
     "output_type": "execute_result"
    }
   ],
   "source": [
    "## Calculating total Deaths \n",
    "Total_Deaths = df['Deaths'].sum()\n",
    "Total_Deaths"
   ]
  },
  {
   "cell_type": "code",
   "execution_count": 79,
   "id": "d30833df",
   "metadata": {},
   "outputs": [
    {
     "data": {
      "text/plain": [
       "13.0"
      ]
     },
     "execution_count": 79,
     "metadata": {},
     "output_type": "execute_result"
    }
   ],
   "source": [
    "## Calculating total recovered\n",
    "Total_recovered = df['Recovered'].sum()\n",
    "Total_recovered"
   ]
  },
  {
   "cell_type": "code",
   "execution_count": 115,
   "id": "a7be3649",
   "metadata": {},
   "outputs": [
    {
     "data": {
      "text/plain": [
       "0.3"
      ]
     },
     "execution_count": 115,
     "metadata": {},
     "output_type": "execute_result"
    }
   ],
   "source": [
    "## Calculating Average new cases\n",
    "Avg_new_cases = round(df['Nr. Of New Cases '].mean(),2)\n",
    "Avg_new_cases"
   ]
  },
  {
   "cell_type": "markdown",
   "id": "a147975c",
   "metadata": {},
   "source": [
    "### Sorting data by total confirmed cases in descending order"
   ]
  },
  {
   "cell_type": "code",
   "execution_count": 80,
   "id": "e0d9de1e",
   "metadata": {},
   "outputs": [
    {
     "data": {
      "text/html": [
       "<div>\n",
       "<style scoped>\n",
       "    .dataframe tbody tr th:only-of-type {\n",
       "        vertical-align: middle;\n",
       "    }\n",
       "\n",
       "    .dataframe tbody tr th {\n",
       "        vertical-align: top;\n",
       "    }\n",
       "\n",
       "    .dataframe thead th {\n",
       "        text-align: right;\n",
       "    }\n",
       "</style>\n",
       "<table border=\"1\" class=\"dataframe\">\n",
       "  <thead>\n",
       "    <tr style=\"text-align: right;\">\n",
       "      <th></th>\n",
       "      <th>Date</th>\n",
       "      <th>Location</th>\n",
       "      <th>Suspected Cases</th>\n",
       "      <th>Nr. Of New Cases</th>\n",
       "      <th>Total Confirmed Cases</th>\n",
       "      <th>Deaths</th>\n",
       "      <th>Recovered</th>\n",
       "      <th>Contacts Under Follow-up</th>\n",
       "      <th>HCW Contacts Under Follow-up</th>\n",
       "      <th>Total Contacts Under Follow-Up</th>\n",
       "      <th>Cumulative Contacts Under Follow-up</th>\n",
       "      <th>Total Suspected Cases</th>\n",
       "    </tr>\n",
       "  </thead>\n",
       "  <tbody>\n",
       "    <tr>\n",
       "      <th>161</th>\n",
       "      <td>25-Mar-20</td>\n",
       "      <td>Lagos</td>\n",
       "      <td>116.0</td>\n",
       "      <td>3.0</td>\n",
       "      <td>32.0</td>\n",
       "      <td>0.0</td>\n",
       "      <td>0.0</td>\n",
       "      <td>0.0</td>\n",
       "      <td>0.0</td>\n",
       "      <td>0.0</td>\n",
       "      <td>0.0</td>\n",
       "      <td>0.0</td>\n",
       "    </tr>\n",
       "    <tr>\n",
       "      <th>139</th>\n",
       "      <td>24-Mar-20</td>\n",
       "      <td>Lagos</td>\n",
       "      <td>88.0</td>\n",
       "      <td>7.0</td>\n",
       "      <td>29.0</td>\n",
       "      <td>0.0</td>\n",
       "      <td>0.0</td>\n",
       "      <td>0.0</td>\n",
       "      <td>0.0</td>\n",
       "      <td>0.0</td>\n",
       "      <td>0.0</td>\n",
       "      <td>0.0</td>\n",
       "    </tr>\n",
       "    <tr>\n",
       "      <th>118</th>\n",
       "      <td>22-Mar-20</td>\n",
       "      <td>Lagos</td>\n",
       "      <td>76.0</td>\n",
       "      <td>13.0</td>\n",
       "      <td>22.0</td>\n",
       "      <td>0.0</td>\n",
       "      <td>0.0</td>\n",
       "      <td>0.0</td>\n",
       "      <td>0.0</td>\n",
       "      <td>0.0</td>\n",
       "      <td>0.0</td>\n",
       "      <td>0.0</td>\n",
       "    </tr>\n",
       "    <tr>\n",
       "      <th>157</th>\n",
       "      <td>25-Mar-20</td>\n",
       "      <td>FCT</td>\n",
       "      <td>74.0</td>\n",
       "      <td>2.0</td>\n",
       "      <td>10.0</td>\n",
       "      <td>0.0</td>\n",
       "      <td>0.0</td>\n",
       "      <td>0.0</td>\n",
       "      <td>0.0</td>\n",
       "      <td>0.0</td>\n",
       "      <td>0.0</td>\n",
       "      <td>0.0</td>\n",
       "    </tr>\n",
       "    <tr>\n",
       "      <th>99</th>\n",
       "      <td>19-Mar-20</td>\n",
       "      <td>Lagos</td>\n",
       "      <td>56.0</td>\n",
       "      <td>4.0</td>\n",
       "      <td>9.0</td>\n",
       "      <td>0.0</td>\n",
       "      <td>0.0</td>\n",
       "      <td>0.0</td>\n",
       "      <td>0.0</td>\n",
       "      <td>0.0</td>\n",
       "      <td>0.0</td>\n",
       "      <td>0.0</td>\n",
       "    </tr>\n",
       "    <tr>\n",
       "      <th>...</th>\n",
       "      <td>...</td>\n",
       "      <td>...</td>\n",
       "      <td>...</td>\n",
       "      <td>...</td>\n",
       "      <td>...</td>\n",
       "      <td>...</td>\n",
       "      <td>...</td>\n",
       "      <td>...</td>\n",
       "      <td>...</td>\n",
       "      <td>...</td>\n",
       "      <td>...</td>\n",
       "      <td>...</td>\n",
       "    </tr>\n",
       "    <tr>\n",
       "      <th>63</th>\n",
       "      <td>15-Mar-20</td>\n",
       "      <td>Lagos</td>\n",
       "      <td>24.0</td>\n",
       "      <td>0.0</td>\n",
       "      <td>0.0</td>\n",
       "      <td>0.0</td>\n",
       "      <td>0.0</td>\n",
       "      <td>0.0</td>\n",
       "      <td>0.0</td>\n",
       "      <td>0.0</td>\n",
       "      <td>0.0</td>\n",
       "      <td>0.0</td>\n",
       "    </tr>\n",
       "    <tr>\n",
       "      <th>65</th>\n",
       "      <td>15-Mar-20</td>\n",
       "      <td>Rivers</td>\n",
       "      <td>1.0</td>\n",
       "      <td>0.0</td>\n",
       "      <td>0.0</td>\n",
       "      <td>0.0</td>\n",
       "      <td>0.0</td>\n",
       "      <td>0.0</td>\n",
       "      <td>0.0</td>\n",
       "      <td>0.0</td>\n",
       "      <td>0.0</td>\n",
       "      <td>0.0</td>\n",
       "    </tr>\n",
       "    <tr>\n",
       "      <th>66</th>\n",
       "      <td>15-Mar-20</td>\n",
       "      <td>Yobe</td>\n",
       "      <td>1.0</td>\n",
       "      <td>0.0</td>\n",
       "      <td>0.0</td>\n",
       "      <td>0.0</td>\n",
       "      <td>0.0</td>\n",
       "      <td>0.0</td>\n",
       "      <td>0.0</td>\n",
       "      <td>0.0</td>\n",
       "      <td>0.0</td>\n",
       "      <td>0.0</td>\n",
       "    </tr>\n",
       "    <tr>\n",
       "      <th>67</th>\n",
       "      <td>16-Mar-20</td>\n",
       "      <td>Edo</td>\n",
       "      <td>1.0</td>\n",
       "      <td>0.0</td>\n",
       "      <td>0.0</td>\n",
       "      <td>0.0</td>\n",
       "      <td>0.0</td>\n",
       "      <td>0.0</td>\n",
       "      <td>0.0</td>\n",
       "      <td>0.0</td>\n",
       "      <td>0.0</td>\n",
       "      <td>0.0</td>\n",
       "    </tr>\n",
       "    <tr>\n",
       "      <th>171</th>\n",
       "      <td>NaN</td>\n",
       "      <td>0</td>\n",
       "      <td>0.0</td>\n",
       "      <td>0.0</td>\n",
       "      <td>0.0</td>\n",
       "      <td>0.0</td>\n",
       "      <td>0.0</td>\n",
       "      <td>0.0</td>\n",
       "      <td>0.0</td>\n",
       "      <td>0.0</td>\n",
       "      <td>0.0</td>\n",
       "      <td>0.0</td>\n",
       "    </tr>\n",
       "  </tbody>\n",
       "</table>\n",
       "<p>172 rows × 12 columns</p>\n",
       "</div>"
      ],
      "text/plain": [
       "          Date Location  Suspected Cases  Nr. Of New Cases   \\\n",
       "161  25-Mar-20    Lagos            116.0                3.0   \n",
       "139  24-Mar-20    Lagos             88.0                7.0   \n",
       "118  22-Mar-20    Lagos             76.0               13.0   \n",
       "157  25-Mar-20      FCT             74.0                2.0   \n",
       "99   19-Mar-20    Lagos             56.0                4.0   \n",
       "..         ...      ...              ...                ...   \n",
       "63   15-Mar-20    Lagos             24.0                0.0   \n",
       "65   15-Mar-20   Rivers              1.0                0.0   \n",
       "66   15-Mar-20     Yobe              1.0                0.0   \n",
       "67   16-Mar-20     Edo               1.0                0.0   \n",
       "171        NaN        0              0.0                0.0   \n",
       "\n",
       "     Total Confirmed Cases  Deaths  Recovered  Contacts Under Follow-up  \\\n",
       "161                   32.0     0.0        0.0                       0.0   \n",
       "139                   29.0     0.0        0.0                       0.0   \n",
       "118                   22.0     0.0        0.0                       0.0   \n",
       "157                   10.0     0.0        0.0                       0.0   \n",
       "99                     9.0     0.0        0.0                       0.0   \n",
       "..                     ...     ...        ...                       ...   \n",
       "63                     0.0     0.0        0.0                       0.0   \n",
       "65                     0.0     0.0        0.0                       0.0   \n",
       "66                     0.0     0.0        0.0                       0.0   \n",
       "67                     0.0     0.0        0.0                       0.0   \n",
       "171                    0.0     0.0        0.0                       0.0   \n",
       "\n",
       "     HCW Contacts Under Follow-up  Total Contacts Under Follow-Up  \\\n",
       "161                           0.0                             0.0   \n",
       "139                           0.0                             0.0   \n",
       "118                           0.0                             0.0   \n",
       "157                           0.0                             0.0   \n",
       "99                            0.0                             0.0   \n",
       "..                            ...                             ...   \n",
       "63                            0.0                             0.0   \n",
       "65                            0.0                             0.0   \n",
       "66                            0.0                             0.0   \n",
       "67                            0.0                             0.0   \n",
       "171                           0.0                             0.0   \n",
       "\n",
       "     Cumulative Contacts Under Follow-up  Total Suspected Cases  \n",
       "161                                  0.0                    0.0  \n",
       "139                                  0.0                    0.0  \n",
       "118                                  0.0                    0.0  \n",
       "157                                  0.0                    0.0  \n",
       "99                                   0.0                    0.0  \n",
       "..                                   ...                    ...  \n",
       "63                                   0.0                    0.0  \n",
       "65                                   0.0                    0.0  \n",
       "66                                   0.0                    0.0  \n",
       "67                                   0.0                    0.0  \n",
       "171                                  0.0                    0.0  \n",
       "\n",
       "[172 rows x 12 columns]"
      ]
     },
     "execution_count": 80,
     "metadata": {},
     "output_type": "execute_result"
    }
   ],
   "source": [
    "df.sort_values('Total Confirmed Cases', ascending=False)"
   ]
  },
  {
   "cell_type": "markdown",
   "id": "75725d44",
   "metadata": {},
   "source": [
    "### Converting NAN as strings to actual NAN value"
   ]
  },
  {
   "cell_type": "code",
   "execution_count": 82,
   "id": "41286eda",
   "metadata": {},
   "outputs": [],
   "source": [
    "df=df.replace('NaN', float('nan'))"
   ]
  },
  {
   "cell_type": "markdown",
   "id": "7bc47b7a",
   "metadata": {},
   "source": [
    "### Replacing the missing values with zero"
   ]
  },
  {
   "cell_type": "code",
   "execution_count": 83,
   "id": "3c461231",
   "metadata": {},
   "outputs": [],
   "source": [
    "df = df.fillna(0)"
   ]
  },
  {
   "cell_type": "markdown",
   "id": "bcd1e827",
   "metadata": {},
   "source": [
    "### Plotting total confirmed cases over day and month"
   ]
  },
  {
   "cell_type": "code",
   "execution_count": 112,
   "id": "c3546cc3",
   "metadata": {},
   "outputs": [
    {
     "data": {
      "image/png": "[encoded data removed]",
      "text/plain": [
       "<Figure size 1000x600 with 1 Axes>"
      ]
     },
     "metadata": {},
     "output_type": "display_data"
    }
   ],
   "source": [
    "\n",
    "total_confirmed_cases = df.groupby('Date')['Total Confirmed Cases'].sum()\n",
    "\n",
    "# Convert the date index to datetime format (if not already in datetime format)\n",
    "total_confirmed_cases.index = pd.to_datetime(total_confirmed_cases.index)\n",
    "\n",
    "# Extract day and month from the date index\n",
    "date_labels = total_confirmed_cases.index.strftime('%d-%b')\n",
    "\n",
    "plt.figure(figsize = (10,6))\n",
    "\n",
    "# Plot the line graph with day and month labels\n",
    "plt.plot(date_labels, total_confirmed_cases, color='brown')\n",
    "plt.xlabel('Date')\n",
    "plt.ylabel('Total Confirmed Cases')\n",
    "plt.title('Total Confirmed Cases Over Time')\n",
    "plt.xticks(rotation=45)  # Rotate x-axis labels for better visibility\n",
    "plt.show()\n",
    "\n",
    "\n"
   ]
  },
  {
   "cell_type": "markdown",
   "id": "31b235c1",
   "metadata": {},
   "source": [
    "### Plotting total confirmed cases and suspected cases"
   ]
  },
  {
   "cell_type": "code",
   "execution_count": 113,
   "id": "c5e922d4",
   "metadata": {},
   "outputs": [
    {
     "data": {
      "image/png": "[encoded data removed]",
      "text/plain": [
       "<Figure size 1000x600 with 1 Axes>"
      ]
     },
     "metadata": {},
     "output_type": "display_data"
    }
   ],
   "source": [
    "# Plot the scatter plot\n",
    "import matplotlib.pyplot as plt\n",
    "\n",
    "# Assuming 'df' is your DataFrame\n",
    "total_confirmed_cases = df.groupby('Date')['Total Confirmed Cases'].sum()\n",
    "suspected_cases = df.groupby('Date')['Suspected Cases'].sum()\n",
    "\n",
    "# Convert the date index to datetime format (if not already in datetime format)\n",
    "total_confirmed_cases.index = pd.to_datetime(total_confirmed_cases.index)\n",
    "suspected_cases.index = pd.to_datetime(suspected_cases.index)\n",
    "\n",
    "plt.figure(figsize = (10,6))\n",
    "\n",
    "# Plot the scatter plot\n",
    "plt.scatter(total_confirmed_cases, suspected_cases, color='brown')\n",
    "plt.xlabel('Total Confirmed Cases')\n",
    "plt.ylabel('Suspected Cases')\n",
    "plt.title('Total Confirmed Cases vs. Suspected Cases')\n",
    "plt.show()\n"
   ]
  },
  {
   "cell_type": "markdown",
   "id": "39156446",
   "metadata": {},
   "source": [
    "### Finding the relationship between total confirmed cases and suspected cases"
   ]
  },
  {
   "cell_type": "code",
   "execution_count": 85,
   "id": "4093aa77",
   "metadata": {},
   "outputs": [
    {
     "data": {
      "text/plain": [
       "0.88"
      ]
     },
     "execution_count": 85,
     "metadata": {},
     "output_type": "execute_result"
    }
   ],
   "source": [
    "coeff = round(df['Total Confirmed Cases'].corr(df['Suspected Cases']),2)\n",
    "coeff\n",
    "\n",
    "## This means thatthere is a strong positive relationship between suspected cases and total confirmed cases\n",
    "\n"
   ]
  },
  {
   "cell_type": "markdown",
   "id": "85707287",
   "metadata": {},
   "source": [
    "A correlation coefficient of 0.88 between total confirmed cases and suspected cases suggests a strong positive relationship between these two variables. This means that as the number of total confirmed COVID-19 cases increases, the number of suspected cases also tends to increase. The strength of the relationship, indicated by the value of 0.88, indicates that there is a significant tendency for the variables to move in the same direction.\n",
    "\n",
    "In practical terms, this could imply that regions or periods with higher confirmed cases are also likely to have higher numbers of suspected cases."
   ]
  },
  {
   "cell_type": "markdown",
   "id": "7f5dfdaf",
   "metadata": {},
   "source": [
    "### Confirming if there are still null values in the dataset"
   ]
  },
  {
   "cell_type": "code",
   "execution_count": 87,
   "id": "c9c82cfd",
   "metadata": {},
   "outputs": [
    {
     "data": {
      "text/plain": [
       "Date                                   False\n",
       "Location                               False\n",
       "Suspected Cases                        False\n",
       "Nr. Of New Cases                       False\n",
       "Total Confirmed Cases                  False\n",
       "Deaths                                 False\n",
       "Recovered                              False\n",
       "Contacts Under Follow-up               False\n",
       "HCW Contacts Under Follow-up           False\n",
       "Total Contacts Under Follow-Up         False\n",
       "Cumulative Contacts Under Follow-up    False\n",
       "Total Suspected Cases                  False\n",
       "dtype: bool"
      ]
     },
     "execution_count": 87,
     "metadata": {},
     "output_type": "execute_result"
    }
   ],
   "source": [
    "df.isna().any()"
   ]
  },
  {
   "cell_type": "markdown",
   "id": "180ab10d",
   "metadata": {},
   "source": [
    "### Checking to see if there are still missing values "
   ]
  },
  {
   "cell_type": "code",
   "execution_count": 117,
   "id": "2aee54ff",
   "metadata": {},
   "outputs": [
    {
     "data": {
      "text/plain": [
       "Date                                   0\n",
       "Location                               0\n",
       "Suspected Cases                        0\n",
       "Nr. Of New Cases                       0\n",
       "Total Confirmed Cases                  0\n",
       "Deaths                                 0\n",
       "Recovered                              0\n",
       "Contacts Under Follow-up               0\n",
       "HCW Contacts Under Follow-up           0\n",
       "Total Contacts Under Follow-Up         0\n",
       "Cumulative Contacts Under Follow-up    0\n",
       "Total Suspected Cases                  0\n",
       "dtype: int64"
      ]
     },
     "execution_count": 117,
     "metadata": {},
     "output_type": "execute_result"
    }
   ],
   "source": [
    "df.isna().sum()"
   ]
  },
  {
   "cell_type": "markdown",
   "id": "f0da4b6b",
   "metadata": {},
   "source": [
    "### Renaming columns"
   ]
  },
  {
   "cell_type": "code",
   "execution_count": 90,
   "id": "6d9be04e",
   "metadata": {},
   "outputs": [],
   "source": [
    "df.rename(columns={'Location ': 'Location'}, inplace=True)\n",
    "\n",
    "df.rename(columns={'Source ' : 'Source'}, inplace=True)"
   ]
  },
  {
   "cell_type": "markdown",
   "id": "55a016cf",
   "metadata": {},
   "source": [
    "### Plotting the number of confirmed cases by top ten (10)locations"
   ]
  },
  {
   "cell_type": "code",
   "execution_count": 91,
   "id": "2cc611e7",
   "metadata": {},
   "outputs": [
    {
     "data": {
      "image/png": "[encoded data removed]",
      "text/plain": [
       "<Figure size 1000x600 with 1 Axes>"
      ]
     },
     "metadata": {},
     "output_type": "display_data"
    }
   ],
   "source": [
    "# Assuming 'df' is your DataFrame\n",
    "highest_confirmed_cases = df.groupby('Location')['Total Confirmed Cases'].sum()\n",
    "\n",
    "# Sort the states based on highest confirmed cases\n",
    "sorted_states = highest_confirmed_cases.sort_values(ascending=False).head(10)\n",
    "\n",
    "# Create a bar plot\n",
    "plt.figure(figsize=(10, 6))  # Adjust the figure size as needed\n",
    "\n",
    "# Plot the sorted data and reverse the y-axis labels\n",
    "ax = sorted_states.plot(kind='barh', color='brown')\n",
    "ax.invert_yaxis()  # Reverse the y-axis to show the highest value on top\n",
    "\n",
    "# Add data labels (values) to the bars\n",
    "for i, v in enumerate(sorted_states):\n",
    "    ax.text(v + 3, i, str(v), color='black', va='center')\n",
    "\n",
    "plt.xlabel('Highest Confirmed Cases')\n",
    "plt.ylabel('Location')\n",
    "plt.title('Top Locations with Highest Confirmed Cases')\n",
    "plt.tight_layout()\n",
    "plt.show()\n"
   ]
  },
  {
   "cell_type": "markdown",
   "id": "0688f23b",
   "metadata": {},
   "source": [
    "### Total confirmed cases by date"
   ]
  },
  {
   "cell_type": "code",
   "execution_count": 114,
   "id": "de776d48",
   "metadata": {},
   "outputs": [
    {
     "data": {
      "text/plain": [
       "Date\n",
       "2020-03-25    51.0\n",
       "2020-03-24    44.0\n",
       "2020-03-22    30.0\n",
       "2020-03-19    12.0\n",
       "2020-03-18     8.0\n",
       "2020-03-17     3.0\n",
       "2020-03-16     3.0\n",
       "2020-03-12     2.0\n",
       "2020-03-15     2.0\n",
       "2020-03-14     2.0\n",
       "2020-03-13     2.0\n",
       "2020-03-10     2.0\n",
       "2020-03-09     2.0\n",
       "2020-02-27     1.0\n",
       "2020-03-07     1.0\n",
       "2020-03-06     1.0\n",
       "2020-03-05     1.0\n",
       "2020-03-04     1.0\n",
       "2020-03-03     1.0\n",
       "2020-03-02     1.0\n",
       "2020-03-01     1.0\n",
       "2020-03-08     0.0\n",
       "1970-01-01     0.0\n",
       "Name: Total Confirmed Cases, dtype: float64"
      ]
     },
     "execution_count": 114,
     "metadata": {},
     "output_type": "execute_result"
    }
   ],
   "source": [
    "daily_confirmed = df.groupby('Date')['Total Confirmed Cases'].sum().sort_values (ascending=False)\n",
    "\n",
    "daily_confirmed"
   ]
  },
  {
   "cell_type": "markdown",
   "id": "f1a0a23f",
   "metadata": {},
   "source": [
    "### Maximum death by date"
   ]
  },
  {
   "cell_type": "code",
   "execution_count": 99,
   "id": "e6e38ead",
   "metadata": {},
   "outputs": [
    {
     "data": {
      "text/plain": [
       "Date\n",
       "2020-03-24    1.0\n",
       "Name: Deaths, dtype: float64"
      ]
     },
     "execution_count": 99,
     "metadata": {},
     "output_type": "execute_result"
    }
   ],
   "source": [
    "deaths = df.groupby('Date')['Deaths'].max().sort_values(ascending= False)\n",
    "\n",
    "deaths.head(1)"
   ]
  },
  {
   "cell_type": "code",
   "execution_count": null,
   "id": "9fbfa885",
   "metadata": {},
   "outputs": [],
   "source": []
  }
 ],
 "metadata": {
  "kernelspec": {
   "display_name": "Python 3 (ipykernel)",
   "language": "python",
   "name": "python3"
  },
  "language_info": {
   "codemirror_mode": {
    "name": "ipython",
    "version": 3
   },
   "file_extension": ".py",
   "mimetype": "text/x-python",
   "name": "python",
   "nbconvert_exporter": "python",
   "pygments_lexer": "ipython3",
   "version": "3.10.9"
  }
 },
 "nbformat": 4,
 "nbformat_minor": 5
}
